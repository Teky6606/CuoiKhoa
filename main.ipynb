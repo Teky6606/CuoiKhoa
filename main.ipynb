{
 "cells": [
  {
   "cell_type": "markdown",
   "id": "5efc2ae2",
   "metadata": {},
   "source": [
    "Import các thứ"
   ]
  },
  {
   "cell_type": "code",
   "execution_count": null,
   "id": "deaa35e1",
   "metadata": {},
   "outputs": [],
   "source": [
    "import pandas as pd"
   ]
  },
  {
   "cell_type": "code",
   "execution_count": null,
   "id": "6f904195",
   "metadata": {},
   "outputs": [
    {
     "name": "stdout",
     "output_type": "stream",
     "text": [
      "     A    B\n",
      "0  1.0  4.0\n",
      "1  0.0  5.0\n",
      "2  3.0  0.0\n"
     ]
    }
   ],
   "source": [
    "\n"
   ]
  },
  {
   "cell_type": "code",
   "execution_count": 7,
   "id": "27c64205",
   "metadata": {},
   "outputs": [
    {
     "name": "stdout",
     "output_type": "stream",
     "text": [
      "              sbd  toan  ngu_van  ngoai_ngu  vat_li  hoa_hoc  sinh_hoc  \\\n",
      "0         1000001   8.4     6.75        8.0    6.00     5.25       5.0   \n",
      "1         1000002   8.6     8.50        7.2    0.00     0.00       0.0   \n",
      "2         1000003   8.2     8.75        8.2    0.00     0.00       0.0   \n",
      "3         1000004   4.8     8.50        7.4    0.00     0.00       0.0   \n",
      "4         1000005   8.6     9.00        7.8    0.00     0.00       0.0   \n",
      "...           ...   ...      ...        ...     ...      ...       ...   \n",
      "1061600  64007282   4.2     6.00        3.0    0.00     0.00       0.0   \n",
      "1061601  64007283   5.2     6.00        3.6    0.00     0.00       0.0   \n",
      "1061602  64007284   7.2     8.00        7.0    6.25     7.00       8.0   \n",
      "1061603  64007285   5.2     5.25        4.4    0.00     0.00       0.0   \n",
      "1061604  64007286   5.8     8.25        2.8    0.00     0.00       0.0   \n",
      "\n",
      "         lich_su  dia_li  gdcd ma_ngoai_ngu  \n",
      "0           0.00    0.00  0.00           N1  \n",
      "1           7.25    6.00  8.00           N1  \n",
      "2           7.25    7.25  8.75           N1  \n",
      "3           7.00    6.00  7.50           N1  \n",
      "4           9.00    8.75  8.50           N1  \n",
      "...          ...     ...   ...          ...  \n",
      "1061600     5.25    6.25  7.50           N1  \n",
      "1061601     6.25    5.75  7.75           N1  \n",
      "1061602     0.00    0.00  0.00           N1  \n",
      "1061603     4.75    6.50  8.75           N1  \n",
      "1061604     5.00    7.25  8.25           N1  \n",
      "\n",
      "[1061605 rows x 11 columns]\n"
     ]
    }
   ],
   "source": [
    "import pandas as pd\n",
    "main_data = pd.read_csv(\"diem_thi_thpt_2024.csv\")\n",
    "main_data.fillna(0, inplace = True)\n",
    "print(main_data)"
   ]
  }
 ],
 "metadata": {
  "kernelspec": {
   "display_name": "Python 3",
   "language": "python",
   "name": "python3"
  },
  "language_info": {
   "codemirror_mode": {
    "name": "ipython",
    "version": 3
   },
   "file_extension": ".py",
   "mimetype": "text/x-python",
   "name": "python",
   "nbconvert_exporter": "python",
   "pygments_lexer": "ipython3",
   "version": "3.13.0"
  }
 },
 "nbformat": 4,
 "nbformat_minor": 5
}
